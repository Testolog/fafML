{
 "cells": [
  {
   "cell_type": "code",
   "execution_count": 375,
   "metadata": {},
   "outputs": [
    {
     "data": {
      "text/plain": "MultiIndex([('a', nan, nan),\n            ('b', 'a', nan),\n            ('b', 'y', nan),\n            ('b', 'c', 'a')],\n           )"
     },
     "execution_count": 375,
     "metadata": {},
     "output_type": "execute_result"
    }
   ],
   "source": [
    "import json\n",
    "import os\n",
    "import re\n",
    "from itertools import product\n",
    "from typing import Dict\n",
    "\n",
    "import numpy\n",
    "from pandas import DataFrame, MultiIndex, concat\n",
    "PROCESS_COLUMN = [\"Economy\", 'Categories', 'Defense', 'General', 'Intel', 'Wreckage','Weapon','Veteran','Transport','Buffs']\n",
    "STOP_FILE_NAMING = r\"\\w+(?=_unit)\"\n",
    "\n",
    "\n",
    "def read_json(file_path=\"../../data/test\"):\n",
    "    data = []\n",
    "    for root, _, files in os.walk(file_path):\n",
    "        for _file in files:\n",
    "            if \"json\" in _file:\n",
    "                with open(os.path.join(root, _file), 'r') as f:\n",
    "                    unit_id = re.findall(STOP_FILE_NAMING, os.path.basename(os.path.join(root, _file)))[0]\n",
    "                    data.append((unit_id,json.load(f)))\n",
    "    return data\n",
    "\n",
    "def build_multiple_index(raw_data:Dict)->MultiIndex:\n",
    "    def dict_to_tuple(work_dict:Dict, t_key=None):\n",
    "        res = []\n",
    "        for key, value in work_dict.items():\n",
    "            if isinstance(value, dict):\n",
    "                res += [(t_key, *_) for _ in  dict_to_tuple(value, key)] if t_key else dict_to_tuple(value, key)\n",
    "            elif t_key:\n",
    "                res.append((t_key, key))\n",
    "            else:\n",
    "                res.append((key,))\n",
    "        return res\n",
    "    return MultiIndex.from_tuples(dict_to_tuple(raw_data))\n",
    "\n",
    "list_unit_id = [\"XSL0105\"]\n",
    "build_multiple_index({\"a\":\"v\", \"b\":{\"a\":\"v\",\"y\":\"x\", \"c\":{\"a\":\"v\"}}})\n",
    "\n"
   ]
  },
  {
   "cell_type": "code",
   "execution_count": 339,
   "metadata": {
    "pycharm": {
     "name": "#%%\n"
    }
   },
   "outputs": [
    {
     "data": {
      "text/plain": "lvl1  a  c\nlvl2 t0 t2\n0     1  7\n1     1  7\n2     0  7\n3     0  7\n4     1  7\n5     0  7",
      "text/html": "<div>\n<style scoped>\n    .dataframe tbody tr th:only-of-type {\n        vertical-align: middle;\n    }\n\n    .dataframe tbody tr th {\n        vertical-align: top;\n    }\n\n    .dataframe thead tr th {\n        text-align: left;\n    }\n</style>\n<table border=\"1\" class=\"dataframe\">\n  <thead>\n    <tr>\n      <th>lvl1</th>\n      <th>a</th>\n      <th>c</th>\n    </tr>\n    <tr>\n      <th>lvl2</th>\n      <th>t0</th>\n      <th>t2</th>\n    </tr>\n  </thead>\n  <tbody>\n    <tr>\n      <th>0</th>\n      <td>1</td>\n      <td>7</td>\n    </tr>\n    <tr>\n      <th>1</th>\n      <td>1</td>\n      <td>7</td>\n    </tr>\n    <tr>\n      <th>2</th>\n      <td>0</td>\n      <td>7</td>\n    </tr>\n    <tr>\n      <th>3</th>\n      <td>0</td>\n      <td>7</td>\n    </tr>\n    <tr>\n      <th>4</th>\n      <td>1</td>\n      <td>7</td>\n    </tr>\n    <tr>\n      <th>5</th>\n      <td>0</td>\n      <td>7</td>\n    </tr>\n  </tbody>\n</table>\n</div>"
     },
     "execution_count": 339,
     "metadata": {},
     "output_type": "execute_result"
    }
   ],
   "source": [
    "#todo asked on stackoverflow\n",
    "columns = MultiIndex.from_tuples(\n",
    "    # [(\"t0\",),(\"a\",\"t1\"),(\"a\",\"t2\"),(\"a\", \"b\", \"t3\"),(\"a\", \"b\", \"c\", \"t4\")],\n",
    "    [(\"a\",\"t0\"),(\"b\",\"t1\"),(\"b\",\"t2\"),(\"c\", \"t1\"),(\"c\", \"t2\")],\n",
    "                     # names=[\"lvl1\",\"lvl2\",\"lvl3\",\"lvl4\"])\n",
    "                     names=[\"lvl1\",\"lvl2\"])\n",
    "df = concat([DataFrame({\"df1\":numpy.random.randint(0,2,6)}),\n",
    "             DataFrame({\"df2_1\":numpy.random.randint(2,4,6),\n",
    "                        \"df2_2\":numpy.random.randint(4,6,6)}),\n",
    "             DataFrame({\"df4\":numpy.random.randint(6,7,6)}),\n",
    "             DataFrame({\"df5\":numpy.random.randint(7,8,6)}),], axis=1)\n",
    "df.columns = columns\n",
    "# df.plot.line()\n",
    "df.loc[:,[(\"a\",\"t0\"),(\"c\",\"t2\")]]\n",
    "# df\n",
    "#\n",
    "# idx = MultiIndex.from_tuples([(1, 'one', \"t\"), (1, 'two', \"t\"),\n",
    "#                                     (2, 'one', \"t\"), (2, 'two', \"t\"),\n",
    "#                                     (3, 'one', \"t\"), (3, 'two', \"t\")],\n",
    "#                                     names=['foo', 'bar', 'new'])\n",
    "# print(idx.set_levels([[\"a\",\"b\",\"c\"], [1,2,3], [\"d\",\"f\",\"g\"]],level=[1,2,3]))\n",
    "# df = DataFrame(data, columns=PROCESS_COLUMN, index=list_unit_id)"
   ]
  },
  {
   "cell_type": "code",
   "execution_count": 219,
   "metadata": {
    "pycharm": {
     "name": "#%%\n"
    }
   },
   "outputs": [
    {
     "name": "stdout",
     "output_type": "stream",
     "text": [
      "MultiIndex([(   'economy',         'BuildCostEnergy'),\n",
      "            (   'economy',           'BuildCostMass'),\n",
      "            (   'economy',               'BuildRate'),\n",
      "            (   'economy',               'BuildTime'),\n",
      "            (   'economy',        'MaxBuildDistance'),\n",
      "            (   'economy', 'NeedToFaceTargetToBuild'),\n",
      "            (   'economy',           'StorageEnergy'),\n",
      "            (   'economy',             'StorageMass'),\n",
      "            (   'economy',       'TeleportEnergyMod'),\n",
      "            (   'economy',         'TeleportMassMod'),\n",
      "            (   'economy',         'TeleportTimeMod'),\n",
      "            (   'economy',       'BuildableCategory'),\n",
      "            ('categories',                   'value'),\n",
      "            (   'defense',          'AirThreatLevel'),\n",
      "            (   'defense',               'ArmorType'),\n",
      "            (   'defense',      'EconomyThreatLevel'),\n",
      "            (   'defense',                  'Health'),\n",
      "            (   'defense',               'MaxHealth'),\n",
      "            (   'defense',               'RegenRate'),\n",
      "            (   'defense',          'SubThreatLevel'),\n",
      "            (   'defense',      'SurfaceThreatLevel'),\n",
      "            (   'general',                'Category'),\n",
      "            (   'general',          'Classification'),\n",
      "            (   'general',         'ConstructionBar'),\n",
      "            (   'general',             'FactionName'),\n",
      "            (   'general',                    'Icon'),\n",
      "            (   'general',       'SelectionPriority'),\n",
      "            (   'general',               'TechLevel'),\n",
      "            (   'general',                'UnitName'),\n",
      "            (   'general',              'UnitWeight'),\n",
      "            (   'general',              'BuildBones'),\n",
      "            (   'general',             'CommandCaps'),\n",
      "            (     'intel',            'VisionRadius'),\n",
      "            (  'wreckage',               'Blueprint'),\n",
      "            (  'wreckage',              'EnergyMult'),\n",
      "            (  'wreckage',              'HealthMult'),\n",
      "            (  'wreckage',                'MassMult'),\n",
      "            (  'wreckage',   'ReclaimTimeMultiplier'),\n",
      "            (  'wreckage',          'WreckageLayers')],\n",
      "           )\n",
      "                economy                                                     \\\n",
      "        BuildCostEnergy BuildCostMass BuildRate BuildTime MaxBuildDistance   \n",
      "XSL0105             260            52         5       260                5   \n",
      "\n",
      "                                                                             \\\n",
      "        NeedToFaceTargetToBuild StorageEnergy StorageMass TeleportEnergyMod   \n",
      "XSL0105                   false             0          10              0.15   \n",
      "\n",
      "                                                                       \n",
      "        TeleportMassMod TeleportTimeMod             BuildableCategory  \n",
      "XSL0105               1            0.01  BUILTBYTIER1ENGINEERSERAPHIM  \n"
     ]
    }
   ],
   "source": [
    "dfs = []\n",
    "for data, n in product(read_json(), PROCESS_COLUMN):\n",
    "    _id = data[0]\n",
    "    content = data[1]\n",
    "    for d in content:\n",
    "        if n in d.keys():\n",
    "            if isinstance(d[n], dict):\n",
    "                records:DataFrame = DataFrame(d[n], index=[_id])\n",
    "                from_product = MultiIndex.from_product([[n.lower()], d[n].keys()])\n",
    "                records.columns = from_product\n",
    "                dfs.append(records)\n",
    "            elif isinstance(d[n],list):\n",
    "                s = DataFrame([[d[n]]], index=[_id])\n",
    "                s.columns = MultiIndex.from_product([[n.lower()], [\"value\"]])\n",
    "                dfs.append(s)\n",
    "t = concat(dfs, axis=1)\n",
    "print(t.columns)\n",
    "print(dfs[0])"
   ]
  },
  {
   "cell_type": "code",
   "execution_count": 180,
   "metadata": {
    "pycharm": {
     "name": "#%%\n"
    }
   },
   "outputs": [],
   "source": []
  },
  {
   "cell_type": "code",
   "execution_count": null,
   "metadata": {
    "pycharm": {
     "name": "#%%\n"
    }
   },
   "outputs": [],
   "source": [
    "\n"
   ]
  }
 ],
 "metadata": {
  "kernelspec": {
   "display_name": "Python 3",
   "language": "python",
   "name": "python3"
  },
  "language_info": {
   "codemirror_mode": {
    "name": "ipython",
    "version": 3
   },
   "file_extension": ".py",
   "mimetype": "text/x-python",
   "name": "python",
   "nbconvert_exporter": "python",
   "pygments_lexer": "ipython3",
   "version": "3.7.7"
  }
 },
 "nbformat": 4,
 "nbformat_minor": 1
}