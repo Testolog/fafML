{
 "cells": [
  {
   "cell_type": "code",
   "execution_count": 43,
   "metadata": {},
   "outputs": [
    {
     "ename": "ImportError",
     "evalue": "cannot import name 'arrayread_json' from 'pandas' (/usr/local/lib/python3.7/site-packages/pandas/__init__.py)",
     "output_type": "error",
     "traceback": [
      "\u001B[0;31m---------------------------------------------------------------------------\u001B[0m",
      "\u001B[0;31mImportError\u001B[0m                               Traceback (most recent call last)",
      "\u001B[0;32m<ipython-input-43-9c42270a641a>\u001B[0m in \u001B[0;36m<module>\u001B[0;34m\u001B[0m\n\u001B[1;32m      5\u001B[0m \u001B[0;34m\u001B[0m\u001B[0m\n\u001B[1;32m      6\u001B[0m \u001B[0;32mimport\u001B[0m \u001B[0mnumpy\u001B[0m\u001B[0;34m\u001B[0m\u001B[0;34m\u001B[0m\u001B[0m\n\u001B[0;32m----> 7\u001B[0;31m \u001B[0;32mfrom\u001B[0m \u001B[0mpandas\u001B[0m \u001B[0;32mimport\u001B[0m \u001B[0mDataFrame\u001B[0m\u001B[0;34m,\u001B[0m \u001B[0mMultiIndex\u001B[0m\u001B[0;34m,\u001B[0m \u001B[0mconcat\u001B[0m\u001B[0;34m,\u001B[0m \u001B[0mSeries\u001B[0m\u001B[0;34m,\u001B[0m \u001B[0marrayread_json\u001B[0m\u001B[0;34m,\u001B[0m \u001B[0mshow_versions\u001B[0m\u001B[0;34m\u001B[0m\u001B[0;34m\u001B[0m\u001B[0m\n\u001B[0m\u001B[1;32m      8\u001B[0m \u001B[0mPROCESS_COLUMN\u001B[0m \u001B[0;34m=\u001B[0m \u001B[0;34m[\u001B[0m\u001B[0;34m\"Economy\"\u001B[0m\u001B[0;34m,\u001B[0m \u001B[0;34m'Categories'\u001B[0m\u001B[0;34m,\u001B[0m \u001B[0;34m'Defense'\u001B[0m\u001B[0;34m,\u001B[0m \u001B[0;34m'General'\u001B[0m\u001B[0;34m,\u001B[0m \u001B[0;34m'Intel'\u001B[0m\u001B[0;34m,\u001B[0m \u001B[0;34m'Wreckage'\u001B[0m\u001B[0;34m,\u001B[0m\u001B[0;34m'Weapon'\u001B[0m\u001B[0;34m,\u001B[0m\u001B[0;34m'Veteran'\u001B[0m\u001B[0;34m,\u001B[0m\u001B[0;34m'Transport'\u001B[0m\u001B[0;34m,\u001B[0m\u001B[0;34m'Buffs'\u001B[0m\u001B[0;34m]\u001B[0m\u001B[0;34m\u001B[0m\u001B[0;34m\u001B[0m\u001B[0m\n\u001B[1;32m      9\u001B[0m \u001B[0mSTOP_FILE_NAMING\u001B[0m \u001B[0;34m=\u001B[0m \u001B[0;34mr\"\\w+(?=_unit)\"\u001B[0m\u001B[0;34m\u001B[0m\u001B[0;34m\u001B[0m\u001B[0m\n",
      "\u001B[0;31mImportError\u001B[0m: cannot import name 'arrayread_json' from 'pandas' (/usr/local/lib/python3.7/site-packages/pandas/__init__.py)"
     ]
    }
   ],
   "source": [
    "\n",
    "import json\n",
    "import os\n",
    "import re\n",
    "from typing import Dict, List\n",
    "\n",
    "import numpy\n",
    "from pandas import DataFrame, MultiIndex, concat, Series, arrayread_json, show_versions\n",
    "PROCESS_COLUMN = [\"Economy\", 'Categories', 'Defense', 'General', 'Intel', 'Wreckage','Weapon','Veteran','Transport','Buffs']\n",
    "STOP_FILE_NAMING = r\"\\w+(?=_unit)\"\n",
    "\n",
    "\n",
    "def read_json_units(file_path=\"../../data/test\"):\n",
    "    data = []\n",
    "    for root, _, files in os.walk(file_path):\n",
    "        for _file in files:\n",
    "            if \"json\" in _file:\n",
    "                with open(os.path.join(root, _file), 'r') as f:\n",
    "                    unit_id = re.findall(STOP_FILE_NAMING, os.path.basename(os.path.join(root, _file)))[0]\n",
    "                    data.append((unit_id,json.load(f)))\n",
    "    return data\n",
    "#todo make one read from file\n",
    "def build_multiple_lvl_df(raw_data:Dict, index=None, select_column=None)->DataFrame:\n",
    "    series = []\n",
    "    def dict_to_tuple(work_dict:Dict, t_key=None):\n",
    "        res = []\n",
    "        for key, value in work_dict.items():\n",
    "            if select_column:\n",
    "                if not t_key and not key in select_column:\n",
    "                    continue\n",
    "            if isinstance(value, dict):\n",
    "                res += [(t_key, *_) for _ in  dict_to_tuple(value, key)] if t_key else dict_to_tuple(value, key)\n",
    "            elif isinstance(value,list):\n",
    "                series.append(Series([value], index=[index]))\n",
    "                res.append((t_key, key) if t_key else (key,))\n",
    "            else:\n",
    "                series.append(Series(value, index=[index]))\n",
    "                res.append((t_key, key) if t_key else(key,))\n",
    "        return res\n",
    "    to_tuple = dict_to_tuple(raw_data)\n",
    "    output_df:DataFrame = concat(series, axis=1)\n",
    "    output_df.columns = MultiIndex.from_tuples(to_tuple)\n",
    "    return output_df\n",
    "\n",
    "def zip_units_dfs(units: List[DataFrame]) -> DataFrame:\n",
    "    index_df = concat([_.columns.to_frame() for _ in units], axis=0).drop_duplicates()\n",
    "    global_columns = MultiIndex.from_frame(index_df)\n",
    "    common_df = concat([_.reindex(columns=global_columns) for _ in units], axis=0)\n",
    "    common_df.columns = global_columns\n",
    "    return common_df\n",
    "\n",
    "t = build_multiple_lvl_df({\"a\":\"v\",\"t\":[6,7,8],\"b\":{\"a\":\"v\",\"y\":\"x\", \"p\":[1,2,3], \"c\":{\"a\":\"v\"}}}, 1)\n",
    "df = t[\"b\"]\n",
    "df.columns = df.columns.get_level_values(0)\n",
    "df\n",
    "# t.loc[:,[(\"a\",numpy.nan, numpy.nan), (\"t\",\"value\", numpy.nan)]]"
   ]
  },
  {
   "cell_type": "code",
   "execution_count": 16,
   "metadata": {
    "pycharm": {
     "name": "#%%\n"
    }
   },
   "outputs": [
    {
     "data": {
      "text/plain": "lvl1  a  c\nlvl2 t0 t2\n0     0  7\n1     0  7\n2     0  7\n3     1  7\n4     1  7\n5     1  7",
      "text/html": "<div>\n<style scoped>\n    .dataframe tbody tr th:only-of-type {\n        vertical-align: middle;\n    }\n\n    .dataframe tbody tr th {\n        vertical-align: top;\n    }\n\n    .dataframe thead tr th {\n        text-align: left;\n    }\n</style>\n<table border=\"1\" class=\"dataframe\">\n  <thead>\n    <tr>\n      <th>lvl1</th>\n      <th>a</th>\n      <th>c</th>\n    </tr>\n    <tr>\n      <th>lvl2</th>\n      <th>t0</th>\n      <th>t2</th>\n    </tr>\n  </thead>\n  <tbody>\n    <tr>\n      <th>0</th>\n      <td>0</td>\n      <td>7</td>\n    </tr>\n    <tr>\n      <th>1</th>\n      <td>0</td>\n      <td>7</td>\n    </tr>\n    <tr>\n      <th>2</th>\n      <td>0</td>\n      <td>7</td>\n    </tr>\n    <tr>\n      <th>3</th>\n      <td>1</td>\n      <td>7</td>\n    </tr>\n    <tr>\n      <th>4</th>\n      <td>1</td>\n      <td>7</td>\n    </tr>\n    <tr>\n      <th>5</th>\n      <td>1</td>\n      <td>7</td>\n    </tr>\n  </tbody>\n</table>\n</div>"
     },
     "execution_count": 16,
     "metadata": {},
     "output_type": "execute_result"
    }
   ],
   "source": [
    "#todo asked on stackoverflow\n",
    "columns = MultiIndex.from_tuples(\n",
    "    # [(\"t0\",),(\"a\",\"t1\"),(\"a\",\"t2\"),(\"a\", \"b\", \"t3\"),(\"a\", \"b\", \"c\", \"t4\")],\n",
    "    [(\"a\",\"t0\"),(\"b\",\"t1\"),(\"b\",\"t2\"),(\"c\", \"t1\"),(\"c\", \"t2\")],\n",
    "                     # names=[\"lvl1\",\"lvl2\",\"lvl3\",\"lvl4\"])\n",
    "                     names=[\"lvl1\",\"lvl2\"])\n",
    "df = concat([DataFrame({\"df1\":numpy.random.randint(0,2,6)}),\n",
    "             DataFrame({\"df2_1\":numpy.random.randint(2,4,6),\n",
    "                        \"df2_2\":numpy.random.randint(4,6,6)}),\n",
    "             DataFrame({\"df4\":numpy.random.randint(6,7,6)}),\n",
    "             DataFrame({\"df5\":numpy.random.randint(7,8,6)}),], axis=1)\n",
    "df.columns = columns\n",
    "# df.plot.line()\n",
    "df.loc[:,[(\"a\",\"t0\"),(\"c\",\"t2\")]]\n",
    "\n",
    "# df\n",
    "#\n",
    "# idx = MultiIndex.from_tuples([(1, 'one', \"t\"), (1, 'two', \"t\"),\n",
    "#                                     (2, 'one', \"t\"), (2, 'two', \"t\"),\n",
    "#                                     (3, 'one', \"t\"), (3, 'two', \"t\")],\n",
    "#                                     names=['foo', 'bar', 'new'])\n",
    "# print(idx.set_levels([[\"a\",\"b\",\"c\"], [1,2,3], [\"d\",\"f\",\"g\"]],level=[1,2,3]))\n",
    "# df = DataFrame(data, columns=PROCESS_COLUMN, index=list_unit_id)"
   ]
  },
  {
   "cell_type": "code",
   "execution_count": 6,
   "metadata": {
    "pycharm": {
     "name": "#%%\n"
    }
   },
   "outputs": [
    {
     "data": {
      "text/plain": "        BuildCostEnergy BuildCostMass BuildRate BuildTime MaxBuildDistance  \\\nXSL0105             260            52         5       260                5   \n\n        NeedToFaceTargetToBuild StorageEnergy StorageMass TeleportEnergyMod  \\\nXSL0105                   false             0          10              0.15   \n\n        TeleportMassMod TeleportTimeMod               BuildableCategory  \nXSL0105               1            0.01  [BUILTBYTIER1ENGINEERSERAPHIM]  ",
      "text/html": "<div>\n<style scoped>\n    .dataframe tbody tr th:only-of-type {\n        vertical-align: middle;\n    }\n\n    .dataframe tbody tr th {\n        vertical-align: top;\n    }\n\n    .dataframe thead th {\n        text-align: right;\n    }\n</style>\n<table border=\"1\" class=\"dataframe\">\n  <thead>\n    <tr style=\"text-align: right;\">\n      <th></th>\n      <th>BuildCostEnergy</th>\n      <th>BuildCostMass</th>\n      <th>BuildRate</th>\n      <th>BuildTime</th>\n      <th>MaxBuildDistance</th>\n      <th>NeedToFaceTargetToBuild</th>\n      <th>StorageEnergy</th>\n      <th>StorageMass</th>\n      <th>TeleportEnergyMod</th>\n      <th>TeleportMassMod</th>\n      <th>TeleportTimeMod</th>\n      <th>BuildableCategory</th>\n    </tr>\n  </thead>\n  <tbody>\n    <tr>\n      <th>XSL0105</th>\n      <td>260</td>\n      <td>52</td>\n      <td>5</td>\n      <td>260</td>\n      <td>5</td>\n      <td>false</td>\n      <td>0</td>\n      <td>10</td>\n      <td>0.15</td>\n      <td>1</td>\n      <td>0.01</td>\n      <td>[BUILTBYTIER1ENGINEERSERAPHIM]</td>\n    </tr>\n  </tbody>\n</table>\n</div>"
     },
     "execution_count": 6,
     "metadata": {},
     "output_type": "execute_result"
    }
   ],
   "source": [
    "dfs = []\n",
    "for _id,content in read_json_units():\n",
    "    dfs.append(build_multiple_lvl_df(content[0], _id, PROCESS_COLUMN))\n",
    "t = concat(dfs, axis=1)\n",
    "# t.info()\n",
    "df = t[\"Economy\"]\n",
    "df.columns = df.columns.get_level_values(0)\n",
    "df"
   ]
  },
  {
   "cell_type": "code",
   "execution_count": 15,
   "metadata": {
    "pycharm": {
     "name": "#%%\n"
    }
   },
   "outputs": [],
   "source": [
    "all_units:List[DataFrame] = []\n",
    "for _id, content in read_json_units(\"/Users/testolog/faf_repo/json\"):\n",
    "    for data in content:\n",
    "        lvl_df = build_multiple_lvl_df(data, _id, PROCESS_COLUMN)\n",
    "        all_units.append(lvl_df)\n",
    "\n",
    "\n",
    "if not os.path.exists(\"/Users/testolog/faf_repo/all_units.json\"):\n",
    "    all_df = zip_units_dfs(all_units)\n",
    "    all_df.to_json(\"/Users/testolog/faf_repo/all_units.json\")\n",
    "else:\n",
    "    all_df = read_json_units(\"/Users/testolog/faf_repo/all_units.json\")\n",
    "all_df:DataFrame = zip_units_dfs(all_units)"
   ]
  },
  {
   "cell_type": "code",
   "execution_count": 57,
   "metadata": {
    "pycharm": {
     "name": "#%%\n"
    }
   },
   "outputs": [
    {
     "data": {
      "text/plain": "0                                               Categories\nXRC8120  [CYBRAN, STRUCTURE, CIVILIAN, SELECTABLE, LAND...\nUAB3201  [PRODUCTSC1, SELECTABLE, BUILTBYTIER2ENGINEER,...",
      "text/html": "<div>\n<style scoped>\n    .dataframe tbody tr th:only-of-type {\n        vertical-align: middle;\n    }\n\n    .dataframe tbody tr th {\n        vertical-align: top;\n    }\n\n    .dataframe thead th {\n        text-align: right;\n    }\n</style>\n<table border=\"1\" class=\"dataframe\">\n  <thead>\n    <tr style=\"text-align: right;\">\n      <th></th>\n      <th>Categories</th>\n    </tr>\n  </thead>\n  <tbody>\n    <tr>\n      <th>XRC8120</th>\n      <td>[CYBRAN, STRUCTURE, CIVILIAN, SELECTABLE, LAND...</td>\n    </tr>\n    <tr>\n      <th>UAB3201</th>\n      <td>[PRODUCTSC1, SELECTABLE, BUILTBYTIER2ENGINEER,...</td>\n    </tr>\n  </tbody>\n</table>\n</div>"
     },
     "execution_count": 57,
     "metadata": {},
     "output_type": "execute_result"
    }
   ],
   "source": [
    "categories = all_df.loc[(\"XRC8120\", \"UAB3201\"), [\"Categories\"]]\n",
    "categories.columns = categories.columns.get_level_values(0)\n",
    "categories"
   ]
  }
 ],
 "metadata": {
  "kernelspec": {
   "display_name": "Python 3",
   "language": "python",
   "name": "python3"
  },
  "language_info": {
   "codemirror_mode": {
    "name": "ipython",
    "version": 3
   },
   "file_extension": ".py",
   "mimetype": "text/x-python",
   "name": "python",
   "nbconvert_exporter": "python",
   "pygments_lexer": "ipython3",
   "version": "3.7.7"
  }
 },
 "nbformat": 4,
 "nbformat_minor": 1
}