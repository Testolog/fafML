{
 "cells": [
  {
   "cell_type": "code",
   "execution_count": 1,
   "metadata": {},
   "outputs": [
    {
     "data": {
      "text/plain": "   a  y          p  c\n1  v  x  [1, 2, 3]  v",
      "text/html": "<div>\n<style scoped>\n    .dataframe tbody tr th:only-of-type {\n        vertical-align: middle;\n    }\n\n    .dataframe tbody tr th {\n        vertical-align: top;\n    }\n\n    .dataframe thead th {\n        text-align: right;\n    }\n</style>\n<table border=\"1\" class=\"dataframe\">\n  <thead>\n    <tr style=\"text-align: right;\">\n      <th></th>\n      <th>a</th>\n      <th>y</th>\n      <th>p</th>\n      <th>c</th>\n    </tr>\n  </thead>\n  <tbody>\n    <tr>\n      <th>1</th>\n      <td>v</td>\n      <td>x</td>\n      <td>[1, 2, 3]</td>\n      <td>v</td>\n    </tr>\n  </tbody>\n</table>\n</div>"
     },
     "execution_count": 1,
     "metadata": {},
     "output_type": "execute_result"
    }
   ],
   "source": [
    "\n",
    "import json\n",
    "import os\n",
    "import re\n",
    "from typing import Dict, List\n",
    "\n",
    "import numpy\n",
    "from pandas import DataFrame, MultiIndex, concat, Series, array, json_normalize\n",
    "PROCESS_COLUMN = [\"Economy\", 'Categories', 'Defense', 'General', 'Intel', 'Wreckage','Weapon','Veteran','Transport','Buffs']\n",
    "STOP_FILE_NAMING = r\"\\w+(?=_unit)\"\n",
    "\n",
    "\n",
    "def read_json_units(file_path=\"../../data/test\"):\n",
    "    data = []\n",
    "    for root, _, files in os.walk(file_path):\n",
    "        for _file in files:\n",
    "            if \"json\" in _file:\n",
    "                with open(os.path.join(root, _file), 'r') as f:\n",
    "                    unit_id = re.findall(STOP_FILE_NAMING, os.path.basename(os.path.join(root, _file)))[0]\n",
    "                    data.append((unit_id,json.load(f)))\n",
    "    return data\n",
    "#todo make one read from file\n",
    "def build_multiple_lvl_df(raw_data:Dict, index=None, select_column=None)->DataFrame:\n",
    "    series = []\n",
    "    def dict_to_tuple(work_dict:Dict, t_key=None):\n",
    "        res = []\n",
    "        for key, value in work_dict.items():\n",
    "            if select_column:\n",
    "                if not t_key and not key in select_column:\n",
    "                    continue\n",
    "            if isinstance(value, dict):\n",
    "                res += [(t_key, *_) for _ in  dict_to_tuple(value, key)] if t_key else dict_to_tuple(value, key)\n",
    "            elif isinstance(value,list):\n",
    "                series.append(Series([value], index=[index]))\n",
    "                res.append((t_key, key) if t_key else (key,))\n",
    "            else:\n",
    "                series.append(Series(value, index=[index]))\n",
    "                res.append((t_key, key) if t_key else(key,))\n",
    "        return res\n",
    "    to_tuple = dict_to_tuple(raw_data)\n",
    "    output_df:DataFrame = concat(series, axis=1)\n",
    "    output_df.columns = MultiIndex.from_tuples(to_tuple)\n",
    "    return output_df\n",
    "\n",
    "def zip_units_dfs(units: List[DataFrame]) -> DataFrame:\n",
    "    index_df = concat([_.columns.to_frame() for _ in units], axis=0).drop_duplicates()\n",
    "    global_columns = MultiIndex.from_frame(index_df)\n",
    "    common_df = concat([_.reindex(columns=global_columns) for _ in units], axis=0)\n",
    "    common_df.columns = global_columns\n",
    "    return common_df\n",
    "\n",
    "t = build_multiple_lvl_df({\"a\":\"v\",\"t\":[6,7,8],\"b\":{\"a\":\"v\",\"y\":\"x\", \"p\":[1,2,3], \"c\":{\"a\":\"v\"}}}, 1)\n",
    "df = t[\"b\"]\n",
    "df.columns = df.columns.get_level_values(0)\n",
    "df\n",
    "# t.loc[:,[(\"a\",numpy.nan, numpy.nan), (\"t\",\"value\", numpy.nan)]]"
   ]
  },
  {
   "cell_type": "code",
   "execution_count": null,
   "metadata": {
    "pycharm": {
     "name": "#%%\n"
    }
   },
   "outputs": [],
   "source": [
    "#todo asked on stackoverflow\n",
    "columns = MultiIndex.from_tuples(\n",
    "    # [(\"t0\",),(\"a\",\"t1\"),(\"a\",\"t2\"),(\"a\", \"b\", \"t3\"),(\"a\", \"b\", \"c\", \"t4\")],\n",
    "    [(\"a\",\"t0\"),(\"b\",\"t1\"),(\"b\",\"t2\"),(\"c\", \"t1\"),(\"c\", \"t2\")],\n",
    "                     # names=[\"lvl1\",\"lvl2\",\"lvl3\",\"lvl4\"])\n",
    "                     names=[\"lvl1\",\"lvl2\"])\n",
    "df = concat([DataFrame({\"df1\":numpy.random.randint(0,2,6)}),\n",
    "             DataFrame({\"df2_1\":numpy.random.randint(2,4,6),\n",
    "                        \"df2_2\":numpy.random.randint(4,6,6)}),\n",
    "             DataFrame({\"df4\":numpy.random.randint(6,7,6)}),\n",
    "             DataFrame({\"df5\":numpy.random.randint(7,8,6)}),], axis=1)\n",
    "df.columns = columns\n",
    "# df.plot.line()\n",
    "df.loc[:,[(\"a\",\"t0\"),(\"c\",\"t2\")]]\n",
    "\n",
    "# df\n",
    "#\n",
    "# idx = MultiIndex.from_tuples([(1, 'one', \"t\"), (1, 'two', \"t\"),\n",
    "#                                     (2, 'one', \"t\"), (2, 'two', \"t\"),\n",
    "#                                     (3, 'one', \"t\"), (3, 'two', \"t\")],\n",
    "#                                     names=['foo', 'bar', 'new'])\n",
    "# print(idx.set_levels([[\"a\",\"b\",\"c\"], [1,2,3], [\"d\",\"f\",\"g\"]],level=[1,2,3]))\n",
    "# df = DataFrame(data, columns=PROCESS_COLUMN, index=list_unit_id)"
   ]
  },
  {
   "cell_type": "code",
   "execution_count": null,
   "metadata": {
    "pycharm": {
     "name": "#%%\n"
    }
   },
   "outputs": [],
   "source": [
    "dfs = []\n",
    "for _id,content in read_json_units():\n",
    "    dfs.append(build_multiple_lvl_df(content[0], _id, PROCESS_COLUMN))\n",
    "t = concat(dfs, axis=1)\n",
    "# t.info()\n",
    "df = t[\"Economy\"]\n",
    "df.columns = df.columns.get_level_values(0)\n",
    "df"
   ]
  },
  {
   "cell_type": "code",
   "execution_count": 55,
   "metadata": {
    "pycharm": {
     "name": "#%%\n"
    }
   },
   "outputs": [],
   "source": [
    "all_units:List[DataFrame] = []\n",
    "for _id, content in read_json_units(\"/Users/testolog/faf_repo/json\")[::15]:\n",
    "    for data in content:\n",
    "        lvl_df = build_multiple_lvl_df(data, _id, PROCESS_COLUMN)\n",
    "        all_units.append(lvl_df)\n",
    "\n",
    "\n",
    "# if not os.path.exists(\"/Users/testolog/faf_repo/all_units.json\"):\n",
    "#     all_df = zip_units_dfs(all_units)\n",
    "#     all_df.to_json(\"/Users/testolog/faf_repo/all_units.json\")\n",
    "# else:\n",
    "#     all_df = read_json_units(\"/Users/testolog/faf_repo/all_units.json\")\n",
    "all_df:DataFrame = zip_units_dfs(all_units)"
   ]
  },
  {
   "cell_type": "code",
   "execution_count": 156,
   "metadata": {
    "pycharm": {
     "name": "#%%\n"
    }
   },
   "outputs": [
    {
     "data": {
      "text/plain": "0        General                                                       \\\n1       Category UpgradesTo     CommandCaps                             \n2            NaN        NaN RULEUCC_Reclaim RULEUCC_SiloBuildTactical   \n3            NaN        NaN             NaN                       NaN   \n4            NaN        NaN             NaN                       NaN   \n5            NaN        NaN             NaN                       NaN   \n0        Factory    uab0302           false                       NaN   \n3        Defense        NaN           false                       NaN   \n6        Defense        NaN           false                      true   \n9        Fighter        NaN           false                       NaN   \n12       Defense        NaN           false                       NaN   \n15       Defense        NaN           false                       NaN   \n18  Construction        NaN            true                       NaN   \n21       Gunship        NaN           false                       NaN   \n24  IndirectFire        NaN           false                       NaN   \n27       Factory        NaN           false                       NaN   \n30       Defense        NaN           false                       NaN   \n33  Intelligence    ueb3202           false                       NaN   \n\n0                         \n1                         \n2  RULEUCC_SiloBuildNuke  \n3                    NaN  \n4                    NaN  \n5                    NaN  \n0                    NaN  \n3                    NaN  \n6                    NaN  \n9                    NaN  \n12                   NaN  \n15                   NaN  \n18                   NaN  \n21                   NaN  \n24                   NaN  \n27                   NaN  \n30                   NaN  \n33                   NaN  ",
      "text/html": "<div>\n<style scoped>\n    .dataframe tbody tr th:only-of-type {\n        vertical-align: middle;\n    }\n\n    .dataframe tbody tr th {\n        vertical-align: top;\n    }\n\n    .dataframe thead tr th {\n        text-align: left;\n    }\n</style>\n<table border=\"1\" class=\"dataframe\">\n  <thead>\n    <tr>\n      <th></th>\n      <th colspan=\"5\" halign=\"left\">General</th>\n    </tr>\n    <tr>\n      <th>1</th>\n      <th>Category</th>\n      <th>UpgradesTo</th>\n      <th colspan=\"3\" halign=\"left\">CommandCaps</th>\n    </tr>\n    <tr>\n      <th>2</th>\n      <th>NaN</th>\n      <th>NaN</th>\n      <th>RULEUCC_Reclaim</th>\n      <th>RULEUCC_SiloBuildTactical</th>\n      <th>RULEUCC_SiloBuildNuke</th>\n    </tr>\n    <tr>\n      <th>3</th>\n      <th>NaN</th>\n      <th>NaN</th>\n      <th>NaN</th>\n      <th>NaN</th>\n      <th>NaN</th>\n    </tr>\n    <tr>\n      <th>4</th>\n      <th>NaN</th>\n      <th>NaN</th>\n      <th>NaN</th>\n      <th>NaN</th>\n      <th>NaN</th>\n    </tr>\n    <tr>\n      <th>5</th>\n      <th>NaN</th>\n      <th>NaN</th>\n      <th>NaN</th>\n      <th>NaN</th>\n      <th>NaN</th>\n    </tr>\n  </thead>\n  <tbody>\n    <tr>\n      <th>0</th>\n      <td>Factory</td>\n      <td>uab0302</td>\n      <td>false</td>\n      <td>NaN</td>\n      <td>NaN</td>\n    </tr>\n    <tr>\n      <th>3</th>\n      <td>Defense</td>\n      <td>NaN</td>\n      <td>false</td>\n      <td>NaN</td>\n      <td>NaN</td>\n    </tr>\n    <tr>\n      <th>6</th>\n      <td>Defense</td>\n      <td>NaN</td>\n      <td>false</td>\n      <td>true</td>\n      <td>NaN</td>\n    </tr>\n    <tr>\n      <th>9</th>\n      <td>Fighter</td>\n      <td>NaN</td>\n      <td>false</td>\n      <td>NaN</td>\n      <td>NaN</td>\n    </tr>\n    <tr>\n      <th>12</th>\n      <td>Defense</td>\n      <td>NaN</td>\n      <td>false</td>\n      <td>NaN</td>\n      <td>NaN</td>\n    </tr>\n    <tr>\n      <th>15</th>\n      <td>Defense</td>\n      <td>NaN</td>\n      <td>false</td>\n      <td>NaN</td>\n      <td>NaN</td>\n    </tr>\n    <tr>\n      <th>18</th>\n      <td>Construction</td>\n      <td>NaN</td>\n      <td>true</td>\n      <td>NaN</td>\n      <td>NaN</td>\n    </tr>\n    <tr>\n      <th>21</th>\n      <td>Gunship</td>\n      <td>NaN</td>\n      <td>false</td>\n      <td>NaN</td>\n      <td>NaN</td>\n    </tr>\n    <tr>\n      <th>24</th>\n      <td>IndirectFire</td>\n      <td>NaN</td>\n      <td>false</td>\n      <td>NaN</td>\n      <td>NaN</td>\n    </tr>\n    <tr>\n      <th>27</th>\n      <td>Factory</td>\n      <td>NaN</td>\n      <td>false</td>\n      <td>NaN</td>\n      <td>NaN</td>\n    </tr>\n    <tr>\n      <th>30</th>\n      <td>Defense</td>\n      <td>NaN</td>\n      <td>false</td>\n      <td>NaN</td>\n      <td>NaN</td>\n    </tr>\n    <tr>\n      <th>33</th>\n      <td>Intelligence</td>\n      <td>ueb3202</td>\n      <td>false</td>\n      <td>NaN</td>\n      <td>NaN</td>\n    </tr>\n  </tbody>\n</table>\n</div>"
     },
     "execution_count": 156,
     "metadata": {},
     "output_type": "execute_result"
    }
   ],
   "source": [
    "categories:DataFrame = all_df.loc[:, [\"General\"]].copy()\n",
    "# categories.columns = categories.columns.get_level_values(1)\n",
    "categories[\"id_unit\"] = categories.index\n",
    "categories.reset_index(inplace=True, drop=True)\n",
    "# categories.set_index(categories.loc[:,(\"id\")])\n",
    "# categories.set_index([(\"General\",\"Category\"),(\"General\",\"FactionName\"), \"id_unit\"], inplace=True)\n",
    "# categories.sort_index(level=[0], inplace=True)\n",
    "categories.columns.set_names()\n",
    "# categories.columns = MultiIndex.from_frame(categories.columns.to_frame().drop_duplicates())\n",
    "categories.loc[::3,::10]"
   ]
  },
  {
   "cell_type": "code",
   "execution_count": 3,
   "outputs": [
    {
     "data": {
      "text/plain": "   a          t b.a b.y        b.p b.c.a\n0  v  [6, 7, 8]   v   x  [1, 2, 3]     v",
      "text/html": "<div>\n<style scoped>\n    .dataframe tbody tr th:only-of-type {\n        vertical-align: middle;\n    }\n\n    .dataframe tbody tr th {\n        vertical-align: top;\n    }\n\n    .dataframe thead th {\n        text-align: right;\n    }\n</style>\n<table border=\"1\" class=\"dataframe\">\n  <thead>\n    <tr style=\"text-align: right;\">\n      <th></th>\n      <th>a</th>\n      <th>t</th>\n      <th>b.a</th>\n      <th>b.y</th>\n      <th>b.p</th>\n      <th>b.c.a</th>\n    </tr>\n  </thead>\n  <tbody>\n    <tr>\n      <th>0</th>\n      <td>v</td>\n      <td>[6, 7, 8]</td>\n      <td>v</td>\n      <td>x</td>\n      <td>[1, 2, 3]</td>\n      <td>v</td>\n    </tr>\n  </tbody>\n</table>\n</div>"
     },
     "execution_count": 3,
     "metadata": {},
     "output_type": "execute_result"
    }
   ],
   "source": [
    "x = {\"a\":\"v\",\"t\":[6,7,8],\"b\":{\"a\":\"v\",\"y\":\"x\", \"p\":[1,2,3], \"c\":{\"a\":\"v\"}}}\n",
    "\n",
    "df_x = json_normalize(x)\n",
    "df_x"
   ],
   "metadata": {
    "collapsed": false,
    "pycharm": {
     "name": "#%%\n"
    }
   }
  },
  {
   "cell_type": "code",
   "execution_count": 12,
   "outputs": [
    {
     "name": "stdout",
     "output_type": "stream",
     "text": [
      "1 2\n"
     ]
    }
   ],
   "source": [
    "a=[1,2,3,4,5]\n",
    "b =(_ for _ in a if _ > 29)\n",
    "_next = next(b, 0)\n",
    "_next\n",
    "b1, b2 = (1,2)\n",
    "print(b1,b2)\n"
   ],
   "metadata": {
    "collapsed": false,
    "pycharm": {
     "name": "#%%\n"
    }
   }
  },
  {
   "cell_type": "code",
   "execution_count": 14,
   "outputs": [
    {
     "data": {
      "text/plain": "[('a', 1), ('a', 2), ('b', 1), ('b', 2)]"
     },
     "execution_count": 14,
     "metadata": {},
     "output_type": "execute_result"
    }
   ],
   "source": [
    "\n",
    "import itertools as it\n",
    "list(it.product([\"a\",\"b\"], [1,2]))"
   ],
   "metadata": {
    "collapsed": false,
    "pycharm": {
     "name": "#%%\n"
    }
   }
  },
  {
   "cell_type": "code",
   "execution_count": 15,
   "outputs": [
    {
     "data": {
      "text/plain": "[('a', 1), ('a', 2), ('b', 1), ('b', 2), ('c', 1), ('c', 2)]"
     },
     "execution_count": 15,
     "metadata": {},
     "output_type": "execute_result"
    }
   ],
   "source": [
    "list(it.product([\"a\",\"b\", \"c\"], [1,2]))\n"
   ],
   "metadata": {
    "collapsed": false,
    "pycharm": {
     "name": "#%%\n"
    }
   }
  },
  {
   "cell_type": "code",
   "execution_count": null,
   "outputs": [],
   "source": [
    "\n"
   ],
   "metadata": {
    "collapsed": false,
    "pycharm": {
     "name": "#%%\n"
    }
   }
  }
 ],
 "metadata": {
  "kernelspec": {
   "display_name": "Python 3",
   "language": "python",
   "name": "python3"
  },
  "language_info": {
   "codemirror_mode": {
    "name": "ipython",
    "version": 3
   },
   "file_extension": ".py",
   "mimetype": "text/x-python",
   "name": "python",
   "nbconvert_exporter": "python",
   "pygments_lexer": "ipython3",
   "version": "3.7.7"
  }
 },
 "nbformat": 4,
 "nbformat_minor": 1
}